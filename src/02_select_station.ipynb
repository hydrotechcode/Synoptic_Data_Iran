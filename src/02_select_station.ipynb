{
 "cells": [
  {
   "cell_type": "code",
   "execution_count": 6,
   "metadata": {},
   "outputs": [],
   "source": [
    "import pandas as pd\n",
    "import geopandas as gpd\n",
    "import jalali"
   ]
  },
  {
   "cell_type": "code",
   "execution_count": 7,
   "metadata": {},
   "outputs": [],
   "source": [
    "stations = gpd.read_parquet('../assets/station.parquet')"
   ]
  },
  {
   "cell_type": "code",
   "execution_count": 15,
   "metadata": {},
   "outputs": [
    {
     "data": {
      "text/html": [
       "<div>\n",
       "<style scoped>\n",
       "    .dataframe tbody tr th:only-of-type {\n",
       "        vertical-align: middle;\n",
       "    }\n",
       "\n",
       "    .dataframe tbody tr th {\n",
       "        vertical-align: top;\n",
       "    }\n",
       "\n",
       "    .dataframe thead th {\n",
       "        text-align: right;\n",
       "    }\n",
       "</style>\n",
       "<table border=\"1\" class=\"dataframe\">\n",
       "  <thead>\n",
       "    <tr style=\"text-align: right;\">\n",
       "      <th></th>\n",
       "      <th>state_name</th>\n",
       "      <th>state_id</th>\n",
       "      <th>name</th>\n",
       "      <th>id</th>\n",
       "      <th>code</th>\n",
       "      <th>lat</th>\n",
       "      <th>lon</th>\n",
       "      <th>alt</th>\n",
       "      <th>date_min</th>\n",
       "      <th>date_max</th>\n",
       "      <th>n_days</th>\n",
       "      <th>n_days_with_data</th>\n",
       "      <th>tmax_missing</th>\n",
       "      <th>tmin_missing</th>\n",
       "      <th>tm_missing</th>\n",
       "      <th>precip_missing</th>\n",
       "      <th>geometry</th>\n",
       "    </tr>\n",
       "  </thead>\n",
       "  <tbody>\n",
       "    <tr>\n",
       "      <th>0</th>\n",
       "      <td>Mazandaran</td>\n",
       "      <td>IR21</td>\n",
       "      <td>BABOLSAR</td>\n",
       "      <td>40736</td>\n",
       "      <td>0c30d06c6449988a74cb0618c40999af</td>\n",
       "      <td>36.720000</td>\n",
       "      <td>52.653056</td>\n",
       "      <td>-21.0</td>\n",
       "      <td>2000-01-01</td>\n",
       "      <td>2022-07-12</td>\n",
       "      <td>8229</td>\n",
       "      <td>8229</td>\n",
       "      <td>2.4</td>\n",
       "      <td>1.9</td>\n",
       "      <td>0.0</td>\n",
       "      <td>0.0</td>\n",
       "      <td>POINT (52.65306 36.72000)</td>\n",
       "    </tr>\n",
       "    <tr>\n",
       "      <th>1</th>\n",
       "      <td>Mazandaran</td>\n",
       "      <td>IR21</td>\n",
       "      <td>GHARAKHIL</td>\n",
       "      <td>40737</td>\n",
       "      <td>e30db690a7c41b0f344784fc54b62273</td>\n",
       "      <td>36.454167</td>\n",
       "      <td>52.771667</td>\n",
       "      <td>14.7</td>\n",
       "      <td>2000-01-01</td>\n",
       "      <td>2022-07-12</td>\n",
       "      <td>8229</td>\n",
       "      <td>8229</td>\n",
       "      <td>1.9</td>\n",
       "      <td>0.9</td>\n",
       "      <td>0.0</td>\n",
       "      <td>0.0</td>\n",
       "      <td>POINT (52.77167 36.45417)</td>\n",
       "    </tr>\n",
       "    <tr>\n",
       "      <th>2</th>\n",
       "      <td>Mazandaran</td>\n",
       "      <td>IR21</td>\n",
       "      <td>NOWSHAHR</td>\n",
       "      <td>40734</td>\n",
       "      <td>b28d8af644ad2bb3184c01ffa68e6a1f</td>\n",
       "      <td>36.661389</td>\n",
       "      <td>51.466944</td>\n",
       "      <td>-20.9</td>\n",
       "      <td>2000-01-01</td>\n",
       "      <td>2022-07-12</td>\n",
       "      <td>8229</td>\n",
       "      <td>8229</td>\n",
       "      <td>3.2</td>\n",
       "      <td>0.9</td>\n",
       "      <td>0.0</td>\n",
       "      <td>0.0</td>\n",
       "      <td>POINT (51.46694 36.66139)</td>\n",
       "    </tr>\n",
       "    <tr>\n",
       "      <th>3</th>\n",
       "      <td>Mazandaran</td>\n",
       "      <td>IR21</td>\n",
       "      <td>SIAHBISHEH</td>\n",
       "      <td>40735</td>\n",
       "      <td>e5d6e13c7f316bd5f614bd4e96ff4f7e</td>\n",
       "      <td>36.231111</td>\n",
       "      <td>51.303056</td>\n",
       "      <td>1855.0</td>\n",
       "      <td>2000-01-01</td>\n",
       "      <td>2022-07-12</td>\n",
       "      <td>8229</td>\n",
       "      <td>8229</td>\n",
       "      <td>3.5</td>\n",
       "      <td>3.1</td>\n",
       "      <td>0.0</td>\n",
       "      <td>0.0</td>\n",
       "      <td>POINT (51.30306 36.23111)</td>\n",
       "    </tr>\n",
       "    <tr>\n",
       "      <th>4</th>\n",
       "      <td>Mazandaran</td>\n",
       "      <td>IR21</td>\n",
       "      <td>RAMSAR</td>\n",
       "      <td>40732</td>\n",
       "      <td>c4e6d51083fe0beda40513de637d4685</td>\n",
       "      <td>36.904444</td>\n",
       "      <td>50.683333</td>\n",
       "      <td>-20.0</td>\n",
       "      <td>2000-01-01</td>\n",
       "      <td>2022-07-12</td>\n",
       "      <td>8229</td>\n",
       "      <td>8229</td>\n",
       "      <td>2.8</td>\n",
       "      <td>1.2</td>\n",
       "      <td>0.0</td>\n",
       "      <td>0.1</td>\n",
       "      <td>POINT (50.68333 36.90444)</td>\n",
       "    </tr>\n",
       "    <tr>\n",
       "      <th>5</th>\n",
       "      <td>Mazandaran</td>\n",
       "      <td>IR21</td>\n",
       "      <td>SARI</td>\n",
       "      <td>40759</td>\n",
       "      <td>e8021d63dd36d7d577ed53940dbc64d3</td>\n",
       "      <td>36.536667</td>\n",
       "      <td>52.986667</td>\n",
       "      <td>23.0</td>\n",
       "      <td>2000-01-01</td>\n",
       "      <td>2022-07-12</td>\n",
       "      <td>8229</td>\n",
       "      <td>8229</td>\n",
       "      <td>2.5</td>\n",
       "      <td>0.9</td>\n",
       "      <td>0.0</td>\n",
       "      <td>0.1</td>\n",
       "      <td>POINT (52.98667 36.53667)</td>\n",
       "    </tr>\n",
       "    <tr>\n",
       "      <th>6</th>\n",
       "      <td>Mazandaran</td>\n",
       "      <td>IR21</td>\n",
       "      <td>AMOL</td>\n",
       "      <td>99309</td>\n",
       "      <td>310dc1fe6432ca98c45045fa36210812</td>\n",
       "      <td>36.466667</td>\n",
       "      <td>52.383333</td>\n",
       "      <td>23.7</td>\n",
       "      <td>2001-01-01</td>\n",
       "      <td>2022-07-12</td>\n",
       "      <td>7863</td>\n",
       "      <td>7863</td>\n",
       "      <td>1.0</td>\n",
       "      <td>1.4</td>\n",
       "      <td>0.0</td>\n",
       "      <td>0.1</td>\n",
       "      <td>POINT (52.38333 36.46667)</td>\n",
       "    </tr>\n",
       "    <tr>\n",
       "      <th>7</th>\n",
       "      <td>Mazandaran</td>\n",
       "      <td>IR21</td>\n",
       "      <td>KIYASAR</td>\n",
       "      <td>40760</td>\n",
       "      <td>a1ef89363d179965aae113552093cb0f</td>\n",
       "      <td>36.248889</td>\n",
       "      <td>53.546389</td>\n",
       "      <td>1294.0</td>\n",
       "      <td>2002-01-01</td>\n",
       "      <td>2022-07-12</td>\n",
       "      <td>7498</td>\n",
       "      <td>7498</td>\n",
       "      <td>3.0</td>\n",
       "      <td>1.7</td>\n",
       "      <td>0.0</td>\n",
       "      <td>0.0</td>\n",
       "      <td>POINT (53.54639 36.24889)</td>\n",
       "    </tr>\n",
       "    <tr>\n",
       "      <th>8</th>\n",
       "      <td>Mazandaran</td>\n",
       "      <td>IR21</td>\n",
       "      <td>ALASHT</td>\n",
       "      <td>99361</td>\n",
       "      <td>dd165066c1d2f647a467c88819b51a6f</td>\n",
       "      <td>36.071900</td>\n",
       "      <td>52.842500</td>\n",
       "      <td>1805.0</td>\n",
       "      <td>2003-01-01</td>\n",
       "      <td>2022-07-12</td>\n",
       "      <td>7133</td>\n",
       "      <td>7133</td>\n",
       "      <td>0.7</td>\n",
       "      <td>1.6</td>\n",
       "      <td>0.0</td>\n",
       "      <td>0.2</td>\n",
       "      <td>POINT (52.84250 36.07190)</td>\n",
       "    </tr>\n",
       "    <tr>\n",
       "      <th>9</th>\n",
       "      <td>Mazandaran</td>\n",
       "      <td>IR21</td>\n",
       "      <td>POLSEFID</td>\n",
       "      <td>99360</td>\n",
       "      <td>b38067eea706bc06f7274b58750c15d1</td>\n",
       "      <td>36.133333</td>\n",
       "      <td>53.083333</td>\n",
       "      <td>610.0</td>\n",
       "      <td>2003-01-01</td>\n",
       "      <td>2022-07-12</td>\n",
       "      <td>7133</td>\n",
       "      <td>7133</td>\n",
       "      <td>0.1</td>\n",
       "      <td>1.8</td>\n",
       "      <td>0.0</td>\n",
       "      <td>0.3</td>\n",
       "      <td>POINT (53.08333 36.13333)</td>\n",
       "    </tr>\n",
       "    <tr>\n",
       "      <th>10</th>\n",
       "      <td>Mazandaran</td>\n",
       "      <td>IR21</td>\n",
       "      <td>BANDAR-E-AMIRABAD</td>\n",
       "      <td>99306</td>\n",
       "      <td>a784d1c95bc132fd05fd45fa470ee9b2</td>\n",
       "      <td>36.856111</td>\n",
       "      <td>53.386389</td>\n",
       "      <td>-20.0</td>\n",
       "      <td>2005-01-01</td>\n",
       "      <td>2022-07-12</td>\n",
       "      <td>6402</td>\n",
       "      <td>6402</td>\n",
       "      <td>2.0</td>\n",
       "      <td>0.7</td>\n",
       "      <td>0.0</td>\n",
       "      <td>0.0</td>\n",
       "      <td>POINT (53.38639 36.85611)</td>\n",
       "    </tr>\n",
       "    <tr>\n",
       "      <th>11</th>\n",
       "      <td>Mazandaran</td>\n",
       "      <td>IR21</td>\n",
       "      <td>SARI (DASHT-E-NAZ AIRPORT)</td>\n",
       "      <td>88116</td>\n",
       "      <td>1beea542141d2006e578033f9b6d2a18</td>\n",
       "      <td>36.636944</td>\n",
       "      <td>53.195278</td>\n",
       "      <td>16.7</td>\n",
       "      <td>2006-01-01</td>\n",
       "      <td>2022-07-12</td>\n",
       "      <td>6037</td>\n",
       "      <td>6037</td>\n",
       "      <td>1.7</td>\n",
       "      <td>0.4</td>\n",
       "      <td>0.0</td>\n",
       "      <td>0.0</td>\n",
       "      <td>POINT (53.19528 36.63694)</td>\n",
       "    </tr>\n",
       "    <tr>\n",
       "      <th>12</th>\n",
       "      <td>Mazandaran</td>\n",
       "      <td>IR21</td>\n",
       "      <td>KOJUR</td>\n",
       "      <td>99348</td>\n",
       "      <td>b9a8a313485c90102088143873fe31e8</td>\n",
       "      <td>36.383333</td>\n",
       "      <td>51.733333</td>\n",
       "      <td>1550.0</td>\n",
       "      <td>2006-03-01</td>\n",
       "      <td>2022-07-12</td>\n",
       "      <td>5978</td>\n",
       "      <td>5978</td>\n",
       "      <td>1.1</td>\n",
       "      <td>2.0</td>\n",
       "      <td>0.0</td>\n",
       "      <td>0.2</td>\n",
       "      <td>POINT (51.73333 36.38333)</td>\n",
       "    </tr>\n",
       "    <tr>\n",
       "      <th>13</th>\n",
       "      <td>Mazandaran</td>\n",
       "      <td>IR21</td>\n",
       "      <td>BALADEH</td>\n",
       "      <td>99357</td>\n",
       "      <td>898f735438d4ed0ba37afa8f39859761</td>\n",
       "      <td>36.200000</td>\n",
       "      <td>51.800000</td>\n",
       "      <td>2120.0</td>\n",
       "      <td>2006-03-01</td>\n",
       "      <td>2022-07-12</td>\n",
       "      <td>5978</td>\n",
       "      <td>5978</td>\n",
       "      <td>1.9</td>\n",
       "      <td>3.0</td>\n",
       "      <td>0.0</td>\n",
       "      <td>0.5</td>\n",
       "      <td>POINT (51.80000 36.20000)</td>\n",
       "    </tr>\n",
       "    <tr>\n",
       "      <th>14</th>\n",
       "      <td>Mazandaran</td>\n",
       "      <td>IR21</td>\n",
       "      <td>IZAD SHAHR</td>\n",
       "      <td>99308</td>\n",
       "      <td>e9b60738c33691e71831e9ef8224dc98</td>\n",
       "      <td>36.350000</td>\n",
       "      <td>52.090000</td>\n",
       "      <td>-26.0</td>\n",
       "      <td>2020-05-18</td>\n",
       "      <td>2022-07-12</td>\n",
       "      <td>786</td>\n",
       "      <td>786</td>\n",
       "      <td>0.4</td>\n",
       "      <td>0.0</td>\n",
       "      <td>0.0</td>\n",
       "      <td>0.1</td>\n",
       "      <td>POINT (52.09000 36.35000)</td>\n",
       "    </tr>\n",
       "    <tr>\n",
       "      <th>15</th>\n",
       "      <td>Mazandaran</td>\n",
       "      <td>IR21</td>\n",
       "      <td>RINEH</td>\n",
       "      <td>99340</td>\n",
       "      <td>12dc5fd594fd65425cb61ff7060a3a86</td>\n",
       "      <td>35.880000</td>\n",
       "      <td>52.170000</td>\n",
       "      <td>2130.0</td>\n",
       "      <td>2021-01-10</td>\n",
       "      <td>2022-07-12</td>\n",
       "      <td>549</td>\n",
       "      <td>548</td>\n",
       "      <td>0.5</td>\n",
       "      <td>0.4</td>\n",
       "      <td>0.2</td>\n",
       "      <td>0.7</td>\n",
       "      <td>POINT (52.17000 35.88000)</td>\n",
       "    </tr>\n",
       "  </tbody>\n",
       "</table>\n",
       "</div>"
      ],
      "text/plain": [
       "    state_name state_id                        name     id  \\\n",
       "0   Mazandaran     IR21                    BABOLSAR  40736   \n",
       "1   Mazandaran     IR21                   GHARAKHIL  40737   \n",
       "2   Mazandaran     IR21                    NOWSHAHR  40734   \n",
       "3   Mazandaran     IR21                  SIAHBISHEH  40735   \n",
       "4   Mazandaran     IR21                      RAMSAR  40732   \n",
       "5   Mazandaran     IR21                        SARI  40759   \n",
       "6   Mazandaran     IR21                        AMOL  99309   \n",
       "7   Mazandaran     IR21                     KIYASAR  40760   \n",
       "8   Mazandaran     IR21                      ALASHT  99361   \n",
       "9   Mazandaran     IR21                    POLSEFID  99360   \n",
       "10  Mazandaran     IR21           BANDAR-E-AMIRABAD  99306   \n",
       "11  Mazandaran     IR21  SARI (DASHT-E-NAZ AIRPORT)  88116   \n",
       "12  Mazandaran     IR21                       KOJUR  99348   \n",
       "13  Mazandaran     IR21                     BALADEH  99357   \n",
       "14  Mazandaran     IR21                  IZAD SHAHR  99308   \n",
       "15  Mazandaran     IR21                       RINEH  99340   \n",
       "\n",
       "                                code        lat        lon     alt   date_min  \\\n",
       "0   0c30d06c6449988a74cb0618c40999af  36.720000  52.653056   -21.0 2000-01-01   \n",
       "1   e30db690a7c41b0f344784fc54b62273  36.454167  52.771667    14.7 2000-01-01   \n",
       "2   b28d8af644ad2bb3184c01ffa68e6a1f  36.661389  51.466944   -20.9 2000-01-01   \n",
       "3   e5d6e13c7f316bd5f614bd4e96ff4f7e  36.231111  51.303056  1855.0 2000-01-01   \n",
       "4   c4e6d51083fe0beda40513de637d4685  36.904444  50.683333   -20.0 2000-01-01   \n",
       "5   e8021d63dd36d7d577ed53940dbc64d3  36.536667  52.986667    23.0 2000-01-01   \n",
       "6   310dc1fe6432ca98c45045fa36210812  36.466667  52.383333    23.7 2001-01-01   \n",
       "7   a1ef89363d179965aae113552093cb0f  36.248889  53.546389  1294.0 2002-01-01   \n",
       "8   dd165066c1d2f647a467c88819b51a6f  36.071900  52.842500  1805.0 2003-01-01   \n",
       "9   b38067eea706bc06f7274b58750c15d1  36.133333  53.083333   610.0 2003-01-01   \n",
       "10  a784d1c95bc132fd05fd45fa470ee9b2  36.856111  53.386389   -20.0 2005-01-01   \n",
       "11  1beea542141d2006e578033f9b6d2a18  36.636944  53.195278    16.7 2006-01-01   \n",
       "12  b9a8a313485c90102088143873fe31e8  36.383333  51.733333  1550.0 2006-03-01   \n",
       "13  898f735438d4ed0ba37afa8f39859761  36.200000  51.800000  2120.0 2006-03-01   \n",
       "14  e9b60738c33691e71831e9ef8224dc98  36.350000  52.090000   -26.0 2020-05-18   \n",
       "15  12dc5fd594fd65425cb61ff7060a3a86  35.880000  52.170000  2130.0 2021-01-10   \n",
       "\n",
       "     date_max  n_days  n_days_with_data  tmax_missing  tmin_missing  \\\n",
       "0  2022-07-12    8229              8229           2.4           1.9   \n",
       "1  2022-07-12    8229              8229           1.9           0.9   \n",
       "2  2022-07-12    8229              8229           3.2           0.9   \n",
       "3  2022-07-12    8229              8229           3.5           3.1   \n",
       "4  2022-07-12    8229              8229           2.8           1.2   \n",
       "5  2022-07-12    8229              8229           2.5           0.9   \n",
       "6  2022-07-12    7863              7863           1.0           1.4   \n",
       "7  2022-07-12    7498              7498           3.0           1.7   \n",
       "8  2022-07-12    7133              7133           0.7           1.6   \n",
       "9  2022-07-12    7133              7133           0.1           1.8   \n",
       "10 2022-07-12    6402              6402           2.0           0.7   \n",
       "11 2022-07-12    6037              6037           1.7           0.4   \n",
       "12 2022-07-12    5978              5978           1.1           2.0   \n",
       "13 2022-07-12    5978              5978           1.9           3.0   \n",
       "14 2022-07-12     786               786           0.4           0.0   \n",
       "15 2022-07-12     549               548           0.5           0.4   \n",
       "\n",
       "    tm_missing  precip_missing                   geometry  \n",
       "0          0.0             0.0  POINT (52.65306 36.72000)  \n",
       "1          0.0             0.0  POINT (52.77167 36.45417)  \n",
       "2          0.0             0.0  POINT (51.46694 36.66139)  \n",
       "3          0.0             0.0  POINT (51.30306 36.23111)  \n",
       "4          0.0             0.1  POINT (50.68333 36.90444)  \n",
       "5          0.0             0.1  POINT (52.98667 36.53667)  \n",
       "6          0.0             0.1  POINT (52.38333 36.46667)  \n",
       "7          0.0             0.0  POINT (53.54639 36.24889)  \n",
       "8          0.0             0.2  POINT (52.84250 36.07190)  \n",
       "9          0.0             0.3  POINT (53.08333 36.13333)  \n",
       "10         0.0             0.0  POINT (53.38639 36.85611)  \n",
       "11         0.0             0.0  POINT (53.19528 36.63694)  \n",
       "12         0.0             0.2  POINT (51.73333 36.38333)  \n",
       "13         0.0             0.5  POINT (51.80000 36.20000)  \n",
       "14         0.0             0.1  POINT (52.09000 36.35000)  \n",
       "15         0.2             0.7  POINT (52.17000 35.88000)  "
      ]
     },
     "execution_count": 15,
     "metadata": {},
     "output_type": "execute_result"
    }
   ],
   "source": [
    "mazandaran = stations.query('state_name == \"Mazandaran\"')\n",
    "\n",
    "mazandaran = mazandaran.query('precip_missing != 100')\n",
    "\n",
    "mazandaran.sort_values([\"n_days_with_data\", \"precip_missing\"], ascending=[False, True]).reset_index(drop=True)"
   ]
  },
  {
   "cell_type": "code",
   "execution_count": null,
   "metadata": {},
   "outputs": [],
   "source": [
    "# data = pd.read_parquet('../assets/data.parquet')\n",
    "\n",
    "# data = data[data[\"code\"] == \"207ad6b590463f669d047804a7431094\"]\n",
    "# data['date'] = pd.to_datetime(data['date'])\n",
    "# data[\"date\"] = data[\"date\"].dt.strftime('%Y-%m-%d')\n",
    "# data[\"Date_Jalali\"] = data[\"date\"].apply(lambda x: jalali.Gregorian(x).persian_string())\n",
    "\n",
    "# data.to_csv(\"Gonabad.csv\", index=False)"
   ]
  },
  {
   "cell_type": "code",
   "execution_count": 16,
   "metadata": {},
   "outputs": [
    {
     "data": {
      "application/vnd.plotly.v1+json": {
       "config": {
        "plotlyServerURL": "https://plot.ly"
       },
       "data": [
        {
         "customdata": [
          [
           "99361",
           7133
          ],
          [
           "99309",
           7863
          ],
          [
           "40736",
           8229
          ],
          [
           "99357",
           5978
          ],
          [
           "99306",
           6402
          ],
          [
           "40737",
           8229
          ],
          [
           "99308",
           786
          ],
          [
           "40760",
           7498
          ],
          [
           "99348",
           5978
          ],
          [
           "40734",
           8229
          ],
          [
           "99360",
           7133
          ],
          [
           "40732",
           8229
          ],
          [
           "99340",
           548
          ],
          [
           "40759",
           8229
          ],
          [
           "88116",
           6037
          ],
          [
           "40735",
           8229
          ]
         ],
         "hovertemplate": "<b>%{hovertext}</b><br><br>n_days_with_data=%{customdata[1]}<br>lat=%{lat}<br>lon=%{lon}<br>id=%{customdata[0]}<extra></extra>",
         "hovertext": [
          "ALASHT",
          "AMOL",
          "BABOLSAR",
          "BALADEH",
          "BANDAR-E-AMIRABAD",
          "GHARAKHIL",
          "IZAD SHAHR",
          "KIYASAR",
          "KOJUR",
          "NOWSHAHR",
          "POLSEFID",
          "RAMSAR",
          "RINEH",
          "SARI",
          "SARI (DASHT-E-NAZ AIRPORT)",
          "SIAHBISHEH"
         ],
         "lat": [
          36.0719,
          36.46666667,
          36.72,
          36.2,
          36.85611111,
          36.45416667,
          36.35,
          36.24888889,
          36.38333333,
          36.66138889,
          36.13333333,
          36.90444444,
          35.88,
          36.53666667,
          36.63694444,
          36.23111111
         ],
         "legendgroup": "",
         "lon": [
          52.8425,
          52.38333333,
          52.65305556,
          51.8,
          53.38638889,
          52.77166667,
          52.09,
          53.54638889,
          51.73333333,
          51.46694444,
          53.08333333,
          50.68333333,
          52.17,
          52.98666667,
          53.19527778,
          51.30305556
         ],
         "marker": {
          "color": "red",
          "size": [
           7133,
           7863,
           8229,
           5978,
           6402,
           8229,
           786,
           7498,
           5978,
           8229,
           7133,
           8229,
           548,
           8229,
           6037,
           8229
          ],
          "sizemode": "area",
          "sizeref": 20.5725
         },
         "mode": "markers",
         "name": "",
         "showlegend": false,
         "subplot": "mapbox",
         "type": "scattermapbox"
        }
       ],
       "layout": {
        "height": 300,
        "legend": {
         "itemsizing": "constant",
         "tracegroupgap": 0
        },
        "mapbox": {
         "center": {
          "lat": 36.420934721875,
          "lon": 52.38095486125
         },
         "domain": {
          "x": [
           0,
           1
          ],
          "y": [
           0,
           1
          ]
         },
         "style": "carto-positron",
         "zoom": 5
        },
        "margin": {
         "b": 0,
         "l": 0,
         "r": 0,
         "t": 0
        },
        "template": {
         "data": {
          "bar": [
           {
            "error_x": {
             "color": "#2a3f5f"
            },
            "error_y": {
             "color": "#2a3f5f"
            },
            "marker": {
             "line": {
              "color": "#E5ECF6",
              "width": 0.5
             },
             "pattern": {
              "fillmode": "overlay",
              "size": 10,
              "solidity": 0.2
             }
            },
            "type": "bar"
           }
          ],
          "barpolar": [
           {
            "marker": {
             "line": {
              "color": "#E5ECF6",
              "width": 0.5
             },
             "pattern": {
              "fillmode": "overlay",
              "size": 10,
              "solidity": 0.2
             }
            },
            "type": "barpolar"
           }
          ],
          "carpet": [
           {
            "aaxis": {
             "endlinecolor": "#2a3f5f",
             "gridcolor": "white",
             "linecolor": "white",
             "minorgridcolor": "white",
             "startlinecolor": "#2a3f5f"
            },
            "baxis": {
             "endlinecolor": "#2a3f5f",
             "gridcolor": "white",
             "linecolor": "white",
             "minorgridcolor": "white",
             "startlinecolor": "#2a3f5f"
            },
            "type": "carpet"
           }
          ],
          "choropleth": [
           {
            "colorbar": {
             "outlinewidth": 0,
             "ticks": ""
            },
            "type": "choropleth"
           }
          ],
          "contour": [
           {
            "colorbar": {
             "outlinewidth": 0,
             "ticks": ""
            },
            "colorscale": [
             [
              0,
              "#0d0887"
             ],
             [
              0.1111111111111111,
              "#46039f"
             ],
             [
              0.2222222222222222,
              "#7201a8"
             ],
             [
              0.3333333333333333,
              "#9c179e"
             ],
             [
              0.4444444444444444,
              "#bd3786"
             ],
             [
              0.5555555555555556,
              "#d8576b"
             ],
             [
              0.6666666666666666,
              "#ed7953"
             ],
             [
              0.7777777777777778,
              "#fb9f3a"
             ],
             [
              0.8888888888888888,
              "#fdca26"
             ],
             [
              1,
              "#f0f921"
             ]
            ],
            "type": "contour"
           }
          ],
          "contourcarpet": [
           {
            "colorbar": {
             "outlinewidth": 0,
             "ticks": ""
            },
            "type": "contourcarpet"
           }
          ],
          "heatmap": [
           {
            "colorbar": {
             "outlinewidth": 0,
             "ticks": ""
            },
            "colorscale": [
             [
              0,
              "#0d0887"
             ],
             [
              0.1111111111111111,
              "#46039f"
             ],
             [
              0.2222222222222222,
              "#7201a8"
             ],
             [
              0.3333333333333333,
              "#9c179e"
             ],
             [
              0.4444444444444444,
              "#bd3786"
             ],
             [
              0.5555555555555556,
              "#d8576b"
             ],
             [
              0.6666666666666666,
              "#ed7953"
             ],
             [
              0.7777777777777778,
              "#fb9f3a"
             ],
             [
              0.8888888888888888,
              "#fdca26"
             ],
             [
              1,
              "#f0f921"
             ]
            ],
            "type": "heatmap"
           }
          ],
          "heatmapgl": [
           {
            "colorbar": {
             "outlinewidth": 0,
             "ticks": ""
            },
            "colorscale": [
             [
              0,
              "#0d0887"
             ],
             [
              0.1111111111111111,
              "#46039f"
             ],
             [
              0.2222222222222222,
              "#7201a8"
             ],
             [
              0.3333333333333333,
              "#9c179e"
             ],
             [
              0.4444444444444444,
              "#bd3786"
             ],
             [
              0.5555555555555556,
              "#d8576b"
             ],
             [
              0.6666666666666666,
              "#ed7953"
             ],
             [
              0.7777777777777778,
              "#fb9f3a"
             ],
             [
              0.8888888888888888,
              "#fdca26"
             ],
             [
              1,
              "#f0f921"
             ]
            ],
            "type": "heatmapgl"
           }
          ],
          "histogram": [
           {
            "marker": {
             "pattern": {
              "fillmode": "overlay",
              "size": 10,
              "solidity": 0.2
             }
            },
            "type": "histogram"
           }
          ],
          "histogram2d": [
           {
            "colorbar": {
             "outlinewidth": 0,
             "ticks": ""
            },
            "colorscale": [
             [
              0,
              "#0d0887"
             ],
             [
              0.1111111111111111,
              "#46039f"
             ],
             [
              0.2222222222222222,
              "#7201a8"
             ],
             [
              0.3333333333333333,
              "#9c179e"
             ],
             [
              0.4444444444444444,
              "#bd3786"
             ],
             [
              0.5555555555555556,
              "#d8576b"
             ],
             [
              0.6666666666666666,
              "#ed7953"
             ],
             [
              0.7777777777777778,
              "#fb9f3a"
             ],
             [
              0.8888888888888888,
              "#fdca26"
             ],
             [
              1,
              "#f0f921"
             ]
            ],
            "type": "histogram2d"
           }
          ],
          "histogram2dcontour": [
           {
            "colorbar": {
             "outlinewidth": 0,
             "ticks": ""
            },
            "colorscale": [
             [
              0,
              "#0d0887"
             ],
             [
              0.1111111111111111,
              "#46039f"
             ],
             [
              0.2222222222222222,
              "#7201a8"
             ],
             [
              0.3333333333333333,
              "#9c179e"
             ],
             [
              0.4444444444444444,
              "#bd3786"
             ],
             [
              0.5555555555555556,
              "#d8576b"
             ],
             [
              0.6666666666666666,
              "#ed7953"
             ],
             [
              0.7777777777777778,
              "#fb9f3a"
             ],
             [
              0.8888888888888888,
              "#fdca26"
             ],
             [
              1,
              "#f0f921"
             ]
            ],
            "type": "histogram2dcontour"
           }
          ],
          "mesh3d": [
           {
            "colorbar": {
             "outlinewidth": 0,
             "ticks": ""
            },
            "type": "mesh3d"
           }
          ],
          "parcoords": [
           {
            "line": {
             "colorbar": {
              "outlinewidth": 0,
              "ticks": ""
             }
            },
            "type": "parcoords"
           }
          ],
          "pie": [
           {
            "automargin": true,
            "type": "pie"
           }
          ],
          "scatter": [
           {
            "fillpattern": {
             "fillmode": "overlay",
             "size": 10,
             "solidity": 0.2
            },
            "type": "scatter"
           }
          ],
          "scatter3d": [
           {
            "line": {
             "colorbar": {
              "outlinewidth": 0,
              "ticks": ""
             }
            },
            "marker": {
             "colorbar": {
              "outlinewidth": 0,
              "ticks": ""
             }
            },
            "type": "scatter3d"
           }
          ],
          "scattercarpet": [
           {
            "marker": {
             "colorbar": {
              "outlinewidth": 0,
              "ticks": ""
             }
            },
            "type": "scattercarpet"
           }
          ],
          "scattergeo": [
           {
            "marker": {
             "colorbar": {
              "outlinewidth": 0,
              "ticks": ""
             }
            },
            "type": "scattergeo"
           }
          ],
          "scattergl": [
           {
            "marker": {
             "colorbar": {
              "outlinewidth": 0,
              "ticks": ""
             }
            },
            "type": "scattergl"
           }
          ],
          "scattermapbox": [
           {
            "marker": {
             "colorbar": {
              "outlinewidth": 0,
              "ticks": ""
             }
            },
            "type": "scattermapbox"
           }
          ],
          "scatterpolar": [
           {
            "marker": {
             "colorbar": {
              "outlinewidth": 0,
              "ticks": ""
             }
            },
            "type": "scatterpolar"
           }
          ],
          "scatterpolargl": [
           {
            "marker": {
             "colorbar": {
              "outlinewidth": 0,
              "ticks": ""
             }
            },
            "type": "scatterpolargl"
           }
          ],
          "scatterternary": [
           {
            "marker": {
             "colorbar": {
              "outlinewidth": 0,
              "ticks": ""
             }
            },
            "type": "scatterternary"
           }
          ],
          "surface": [
           {
            "colorbar": {
             "outlinewidth": 0,
             "ticks": ""
            },
            "colorscale": [
             [
              0,
              "#0d0887"
             ],
             [
              0.1111111111111111,
              "#46039f"
             ],
             [
              0.2222222222222222,
              "#7201a8"
             ],
             [
              0.3333333333333333,
              "#9c179e"
             ],
             [
              0.4444444444444444,
              "#bd3786"
             ],
             [
              0.5555555555555556,
              "#d8576b"
             ],
             [
              0.6666666666666666,
              "#ed7953"
             ],
             [
              0.7777777777777778,
              "#fb9f3a"
             ],
             [
              0.8888888888888888,
              "#fdca26"
             ],
             [
              1,
              "#f0f921"
             ]
            ],
            "type": "surface"
           }
          ],
          "table": [
           {
            "cells": {
             "fill": {
              "color": "#EBF0F8"
             },
             "line": {
              "color": "white"
             }
            },
            "header": {
             "fill": {
              "color": "#C8D4E3"
             },
             "line": {
              "color": "white"
             }
            },
            "type": "table"
           }
          ]
         },
         "layout": {
          "annotationdefaults": {
           "arrowcolor": "#2a3f5f",
           "arrowhead": 0,
           "arrowwidth": 1
          },
          "autotypenumbers": "strict",
          "coloraxis": {
           "colorbar": {
            "outlinewidth": 0,
            "ticks": ""
           }
          },
          "colorscale": {
           "diverging": [
            [
             0,
             "#8e0152"
            ],
            [
             0.1,
             "#c51b7d"
            ],
            [
             0.2,
             "#de77ae"
            ],
            [
             0.3,
             "#f1b6da"
            ],
            [
             0.4,
             "#fde0ef"
            ],
            [
             0.5,
             "#f7f7f7"
            ],
            [
             0.6,
             "#e6f5d0"
            ],
            [
             0.7,
             "#b8e186"
            ],
            [
             0.8,
             "#7fbc41"
            ],
            [
             0.9,
             "#4d9221"
            ],
            [
             1,
             "#276419"
            ]
           ],
           "sequential": [
            [
             0,
             "#0d0887"
            ],
            [
             0.1111111111111111,
             "#46039f"
            ],
            [
             0.2222222222222222,
             "#7201a8"
            ],
            [
             0.3333333333333333,
             "#9c179e"
            ],
            [
             0.4444444444444444,
             "#bd3786"
            ],
            [
             0.5555555555555556,
             "#d8576b"
            ],
            [
             0.6666666666666666,
             "#ed7953"
            ],
            [
             0.7777777777777778,
             "#fb9f3a"
            ],
            [
             0.8888888888888888,
             "#fdca26"
            ],
            [
             1,
             "#f0f921"
            ]
           ],
           "sequentialminus": [
            [
             0,
             "#0d0887"
            ],
            [
             0.1111111111111111,
             "#46039f"
            ],
            [
             0.2222222222222222,
             "#7201a8"
            ],
            [
             0.3333333333333333,
             "#9c179e"
            ],
            [
             0.4444444444444444,
             "#bd3786"
            ],
            [
             0.5555555555555556,
             "#d8576b"
            ],
            [
             0.6666666666666666,
             "#ed7953"
            ],
            [
             0.7777777777777778,
             "#fb9f3a"
            ],
            [
             0.8888888888888888,
             "#fdca26"
            ],
            [
             1,
             "#f0f921"
            ]
           ]
          },
          "colorway": [
           "#636efa",
           "#EF553B",
           "#00cc96",
           "#ab63fa",
           "#FFA15A",
           "#19d3f3",
           "#FF6692",
           "#B6E880",
           "#FF97FF",
           "#FECB52"
          ],
          "font": {
           "color": "#2a3f5f"
          },
          "geo": {
           "bgcolor": "white",
           "lakecolor": "white",
           "landcolor": "#E5ECF6",
           "showlakes": true,
           "showland": true,
           "subunitcolor": "white"
          },
          "hoverlabel": {
           "align": "left"
          },
          "hovermode": "closest",
          "mapbox": {
           "style": "light"
          },
          "paper_bgcolor": "white",
          "plot_bgcolor": "#E5ECF6",
          "polar": {
           "angularaxis": {
            "gridcolor": "white",
            "linecolor": "white",
            "ticks": ""
           },
           "bgcolor": "#E5ECF6",
           "radialaxis": {
            "gridcolor": "white",
            "linecolor": "white",
            "ticks": ""
           }
          },
          "scene": {
           "xaxis": {
            "backgroundcolor": "#E5ECF6",
            "gridcolor": "white",
            "gridwidth": 2,
            "linecolor": "white",
            "showbackground": true,
            "ticks": "",
            "zerolinecolor": "white"
           },
           "yaxis": {
            "backgroundcolor": "#E5ECF6",
            "gridcolor": "white",
            "gridwidth": 2,
            "linecolor": "white",
            "showbackground": true,
            "ticks": "",
            "zerolinecolor": "white"
           },
           "zaxis": {
            "backgroundcolor": "#E5ECF6",
            "gridcolor": "white",
            "gridwidth": 2,
            "linecolor": "white",
            "showbackground": true,
            "ticks": "",
            "zerolinecolor": "white"
           }
          },
          "shapedefaults": {
           "line": {
            "color": "#2a3f5f"
           }
          },
          "ternary": {
           "aaxis": {
            "gridcolor": "white",
            "linecolor": "white",
            "ticks": ""
           },
           "baxis": {
            "gridcolor": "white",
            "linecolor": "white",
            "ticks": ""
           },
           "bgcolor": "#E5ECF6",
           "caxis": {
            "gridcolor": "white",
            "linecolor": "white",
            "ticks": ""
           }
          },
          "title": {
           "x": 0.05
          },
          "xaxis": {
           "automargin": true,
           "gridcolor": "white",
           "linecolor": "white",
           "ticks": "",
           "title": {
            "standoff": 15
           },
           "zerolinecolor": "white",
           "zerolinewidth": 2
          },
          "yaxis": {
           "automargin": true,
           "gridcolor": "white",
           "linecolor": "white",
           "ticks": "",
           "title": {
            "standoff": 15
           },
           "zerolinecolor": "white",
           "zerolinewidth": 2
          }
         }
        }
       }
      }
     },
     "metadata": {},
     "output_type": "display_data"
    }
   ],
   "source": [
    "import geopandas as gpd\n",
    "import plotly.express as px\n",
    "import plotly.graph_objects as go\n",
    "\n",
    "fig = px.scatter_mapbox(\n",
    "    mazandaran,\n",
    "    lat=\"lat\",\n",
    "    lon=\"lon\",\n",
    "    hover_name=\"name\",\n",
    "    hover_data=[\"id\", \"n_days_with_data\"],\n",
    "    color_discrete_sequence=[\"red\"],\n",
    "    zoom=5,\n",
    "    height=300,\n",
    "    size=\"n_days_with_data\",\n",
    ")\n",
    "fig.update_layout(mapbox_style=\"carto-positron\")\n",
    "fig.update_layout(margin={\"r\": 0, \"t\": 0, \"l\": 0, \"b\": 0})\n",
    "fig.show()"
   ]
  }
 ],
 "metadata": {
  "kernelspec": {
   "display_name": ".venv",
   "language": "python",
   "name": "python3"
  },
  "language_info": {
   "codemirror_mode": {
    "name": "ipython",
    "version": 3
   },
   "file_extension": ".py",
   "mimetype": "text/x-python",
   "name": "python",
   "nbconvert_exporter": "python",
   "pygments_lexer": "ipython3",
   "version": "3.12.3"
  }
 },
 "nbformat": 4,
 "nbformat_minor": 2
}
